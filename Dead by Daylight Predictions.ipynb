{
 "cells": [
  {
   "cell_type": "code",
   "execution_count": 16,
   "metadata": {},
   "outputs": [],
   "source": [
    "import pandas as pd\n",
    "from sklearn.model_selection import train_test_split\n",
    "from sklearn.preprocessing import LabelEncoder\n",
    "from sklearn.ensemble import RandomForestRegressor\n",
    "from sklearn.metrics import mean_squared_error, r2_score\n",
    "import warnings\n",
    "warnings.filterwarnings(\"ignore\")"
   ]
  },
  {
   "cell_type": "markdown",
   "metadata": {},
   "source": [
    "## Escapes Prediction"
   ]
  },
  {
   "cell_type": "code",
   "execution_count": 21,
   "metadata": {},
   "outputs": [
    {
     "name": "stdout",
     "output_type": "stream",
     "text": [
      "Mean Squared Error: 1.151145123927233\n",
      "R^2 Score: 0.3950789889174279\n",
      "[[4 21 3 7 False]]\n",
      "Predicted number of survivors escaping: 0.34666666666666673\n"
     ]
    },
    {
     "data": {
      "text/plain": [
       "['dbd_survivor_prediction_model.pkl']"
      ]
     },
     "execution_count": 21,
     "metadata": {},
     "output_type": "execute_result"
    }
   ],
   "source": [
    "# Load the dataset\n",
    "data = pd.read_csv('Dead by Daylight data.csv')\n",
    "\n",
    "# Display the first few rows of the dataframe\n",
    "#print(data.head())\n",
    "\n",
    "# Encode categorical variables\n",
    "label_encoders = {}\n",
    "for column in data.select_dtypes(include=['object']).columns:\n",
    "    label_encoders[column] = LabelEncoder()\n",
    "    data[column] = label_encoders[column].fit_transform(data[column])\n",
    "\n",
    "# Define features and target\n",
    "features = data.drop(columns=['Nb Escaped Survivors', 'Comments', 'Nb Hatch escapes'])\n",
    "target = data['Nb Escaped Survivors']\n",
    "\n",
    "# Split the data into training and testing sets\n",
    "X_train, X_test, y_train, y_test = train_test_split(features, target, test_size=0.2, random_state=42)\n",
    "\n",
    "# Train a Random Forest Regressor\n",
    "model = RandomForestRegressor(n_estimators=100, random_state=42)\n",
    "model.fit(X_train, y_train)\n",
    "\n",
    "# Make predictions\n",
    "y_pred = model.predict(X_test)\n",
    "\n",
    "# Evaluate the model\n",
    "mse = mean_squared_error(y_test, y_pred)\n",
    "r2 = r2_score(y_test, y_pred)\n",
    "\n",
    "print(f'Mean Squared Error: {mse}')\n",
    "print(f'R^2 Score: {r2}')\n",
    "\n",
    "# Example prediction\n",
    "example = X_test.iloc[0].values.reshape(1, -1)\n",
    "predicted_escapes = model.predict(example)\n",
    "print(example)\n",
    "print(f'Predicted number of survivors escaping: {predicted_escapes[0]}')\n",
    "\n",
    "# Save the model\n",
    "import joblib\n",
    "joblib.dump(model, 'dbd_survivor_prediction_model.pkl')"
   ]
  },
  {
   "cell_type": "code",
   "execution_count": 31,
   "metadata": {},
   "outputs": [
    {
     "name": "stdout",
     "output_type": "stream",
     "text": [
      "Mean Squared Error: 1.1066810237691445\n",
      "R^2 Score: 0.41844465139163034\n",
      "Given features: \n",
      "    Map  Killer  Nb Finished generators Season   SBMM\n",
      "471  CP  Spirit                       3  March  False\n",
      "Predicted number of survivors escaping for this round: 0.7087857142857144\n"
     ]
    },
    {
     "data": {
      "text/plain": [
       "['dbd_survivor_prediction_model_2.pkl']"
      ]
     },
     "execution_count": 31,
     "metadata": {},
     "output_type": "execute_result"
    }
   ],
   "source": [
    "import pandas as pd\n",
    "from sklearn.model_selection import train_test_split\n",
    "from sklearn.preprocessing import OneHotEncoder\n",
    "from sklearn.compose import ColumnTransformer\n",
    "from sklearn.pipeline import Pipeline\n",
    "from sklearn.ensemble import RandomForestRegressor\n",
    "from sklearn.metrics import mean_squared_error, r2_score\n",
    "import joblib\n",
    "\n",
    "# Load the dataset\n",
    "data = pd.read_csv('Dead by Daylight data.csv')\n",
    "\n",
    "# Preprocessing\n",
    "# Handle missing values (if any)\n",
    "data.fillna(method='ffill', inplace=True)\n",
    "\n",
    "# Define features and target\n",
    "features = data.drop(columns=['Nb Escaped Survivors','Comments','Nb Hatch escapes'])\n",
    "target = data['Nb Escaped Survivors']\n",
    "\n",
    "# Identify categorical columns\n",
    "categorical_cols = features.select_dtypes(include=['object']).columns.tolist()\n",
    "\n",
    "# Define the preprocessor\n",
    "preprocessor = ColumnTransformer(\n",
    "    transformers=[\n",
    "        ('cat', OneHotEncoder(handle_unknown='ignore'), categorical_cols)\n",
    "    ],\n",
    "    remainder='passthrough'\n",
    ")\n",
    "\n",
    "# Create the model pipeline\n",
    "model = Pipeline(steps=[\n",
    "    ('preprocessor', preprocessor),\n",
    "    ('regressor', RandomForestRegressor(n_estimators=100, random_state=42))\n",
    "])\n",
    "\n",
    "# Split the data into training and testing sets\n",
    "X_train, X_test, y_train, y_test = train_test_split(features, target, test_size=0.2, random_state=42)\n",
    "\n",
    "# Train the model\n",
    "model.fit(X_train, y_train)\n",
    "\n",
    "# Make predictions\n",
    "y_pred = model.predict(X_test)\n",
    "\n",
    "# Evaluate the model\n",
    "mse = mean_squared_error(y_test, y_pred)\n",
    "r2 = r2_score(y_test, y_pred)\n",
    "\n",
    "print(f'Mean Squared Error: {mse}')\n",
    "print(f'R^2 Score: {r2}')\n",
    "\n",
    "# Example prediction\n",
    "example = X_test.iloc[0:1]\n",
    "predicted_escapees = model.predict(example)\n",
    "print(f'Given features: \\n{example}')\n",
    "print(f'Predicted number of survivors escaping for this round: {predicted_escapees[0]}')\n",
    "# print the actual escape rate!\n",
    "\n",
    "# Save the model\n",
    "joblib.dump(model, 'dbd_survivor_prediction_model_2.pkl')\n",
    "\n",
    "\n"
   ]
  }
 ],
 "metadata": {
  "kernelspec": {
   "display_name": "env",
   "language": "python",
   "name": "python3"
  },
  "language_info": {
   "codemirror_mode": {
    "name": "ipython",
    "version": 3
   },
   "file_extension": ".py",
   "mimetype": "text/x-python",
   "name": "python",
   "nbconvert_exporter": "python",
   "pygments_lexer": "ipython3",
   "version": "3.11.8"
  }
 },
 "nbformat": 4,
 "nbformat_minor": 2
}
